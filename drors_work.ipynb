{
 "cells": [
  {
   "cell_type": "code",
   "execution_count": 8,
   "metadata": {},
   "outputs": [],
   "source": [
    "import pandas as pd\n",
    "import numpy as np\n",
    "import seaborn as sns\n",
    "import pickle\n"
   ]
  },
  {
   "cell_type": "code",
   "execution_count": 2,
   "metadata": {},
   "outputs": [
    {
     "name": "stderr",
     "output_type": "stream",
     "text": [
      "/Users/d_private/anaconda3/envs/PyProgAll/lib/python3.8/site-packages/IPython/core/interactiveshell.py:3071: DtypeWarning: Columns (0,1,2,3,4,5,6,7,8,9,10,11,12,13,14,15,16,17,18,19,20,21,22,23,24,25,26,27,28,29,30,31,32,33,34,35,36,37,38,39,40,41,42,43,44,45,46,47,48,49,50,51,52,53,54,55,56,57,58,59,60,61,62,63,64,65,66,67,68,69,70,71,72,73,74,75,76,77,78,79,80,81,82,83,84,85,86,87,88,89) have mixed types.Specify dtype option on import or set low_memory=False.\n",
      "  has_raised = await self.run_ast_nodes(code_ast.body, cell_name,\n",
      "/Users/d_private/anaconda3/envs/PyProgAll/lib/python3.8/site-packages/IPython/core/interactiveshell.py:3071: DtypeWarning: Columns (1,2,3,4,5,6,7,8,9,10,11,12,13,14,15,16,17,18,19,20,21,22,23,24,25,26,27,28,29,30,31,32,33,34,35,36,37,38,39,40,41,42,43,44,45,46,47,48,49,50,51,52,53,54,55,56,57,58,59,60,61,62,63,64,65,66,67,68,69,70,71,72,73,74,75,76,77,78,79,80,81,82,83,84,85,86,87,88,89,90,91,92,93,94,95,96,97,98,99,100,101,102,103,104,105,106,107,108,109,110,111,112,113,114,115,116,117,118,119,120,121,122) have mixed types.Specify dtype option on import or set low_memory=False.\n",
      "  has_raised = await self.run_ast_nodes(code_ast.body, cell_name,\n"
     ]
    }
   ],
   "source": [
    "import pandas as pd\n",
    "import numpy as np\n",
    "\n",
    "hypothalamus_path = 'hypothalamus.txt'\n",
    "liver_path = 'liver.txt'\n",
    "genotypes_path = 'BXD.geno'\n",
    "\n",
    "hypothalamus_expression_df = pd.read_csv(hypothalamus_path,\n",
    "                                         sep='\\t',\n",
    "                                         comment='#',\n",
    "                                         index_col=0,\n",
    "                                         )\n",
    "liver_expression_df = pd.read_csv(liver_path,\n",
    "                                         sep='\\t',\n",
    "                                         comment='#',\n",
    "                                         index_col=0,\n",
    "                                         )\n",
    "#hypothalamus_expression_df.columns = hypothalamus_expression_df.iloc[0]\n",
    "hypothalamus_expression_df = hypothalamus_expression_df[1:]\n",
    "liver_expression_df = liver_expression_df[1:]"
   ]
  },
  {
   "cell_type": "code",
   "execution_count": 3,
   "metadata": {},
   "outputs": [
    {
     "data": {
      "text/html": [
       "<div>\n",
       "<style scoped>\n",
       "    .dataframe tbody tr th:only-of-type {\n",
       "        vertical-align: middle;\n",
       "    }\n",
       "\n",
       "    .dataframe tbody tr th {\n",
       "        vertical-align: top;\n",
       "    }\n",
       "\n",
       "    .dataframe thead th {\n",
       "        text-align: right;\n",
       "    }\n",
       "</style>\n",
       "<table border=\"1\" class=\"dataframe\">\n",
       "  <thead>\n",
       "    <tr style=\"text-align: right;\">\n",
       "      <th></th>\n",
       "      <th>BXD44_F</th>\n",
       "      <th>BXD49_M</th>\n",
       "      <th>BXD44_M</th>\n",
       "      <th>BXD102_M</th>\n",
       "      <th>BXD43_M</th>\n",
       "      <th>BXD45_F</th>\n",
       "      <th>BXD45_M</th>\n",
       "      <th>BXD103_M</th>\n",
       "      <th>BXD103_F</th>\n",
       "      <th>BXD60_F</th>\n",
       "      <th>...</th>\n",
       "      <th>BXD92A_F</th>\n",
       "      <th>BXD70_F</th>\n",
       "      <th>BXD92A_M</th>\n",
       "      <th>BXD68_F</th>\n",
       "      <th>BXD68_M</th>\n",
       "      <th>BXD79_F</th>\n",
       "      <th>BXD85_F</th>\n",
       "      <th>BXD85_M</th>\n",
       "      <th>BXD101_M</th>\n",
       "      <th>BXD101_F</th>\n",
       "    </tr>\n",
       "    <tr>\n",
       "      <th>!Sample_title</th>\n",
       "      <th></th>\n",
       "      <th></th>\n",
       "      <th></th>\n",
       "      <th></th>\n",
       "      <th></th>\n",
       "      <th></th>\n",
       "      <th></th>\n",
       "      <th></th>\n",
       "      <th></th>\n",
       "      <th></th>\n",
       "      <th></th>\n",
       "      <th></th>\n",
       "      <th></th>\n",
       "      <th></th>\n",
       "      <th></th>\n",
       "      <th></th>\n",
       "      <th></th>\n",
       "      <th></th>\n",
       "      <th></th>\n",
       "      <th></th>\n",
       "      <th></th>\n",
       "    </tr>\n",
       "  </thead>\n",
       "  <tbody>\n",
       "    <tr>\n",
       "      <th>10338001</th>\n",
       "      <td>12.612</td>\n",
       "      <td>12.509</td>\n",
       "      <td>12.629</td>\n",
       "      <td>12.56</td>\n",
       "      <td>12.533</td>\n",
       "      <td>12.646</td>\n",
       "      <td>12.426</td>\n",
       "      <td>12.465</td>\n",
       "      <td>12.728</td>\n",
       "      <td>12.429</td>\n",
       "      <td>...</td>\n",
       "      <td>12.451</td>\n",
       "      <td>12.812</td>\n",
       "      <td>12.757</td>\n",
       "      <td>12.697</td>\n",
       "      <td>12.943</td>\n",
       "      <td>12.622</td>\n",
       "      <td>12.963</td>\n",
       "      <td>12.522</td>\n",
       "      <td>12.558</td>\n",
       "      <td>12.872</td>\n",
       "    </tr>\n",
       "    <tr>\n",
       "      <th>10338003</th>\n",
       "      <td>11.187</td>\n",
       "      <td>11.043</td>\n",
       "      <td>11.116</td>\n",
       "      <td>11.104</td>\n",
       "      <td>11.09</td>\n",
       "      <td>11.151</td>\n",
       "      <td>10.955</td>\n",
       "      <td>11.06</td>\n",
       "      <td>11.256</td>\n",
       "      <td>10.968</td>\n",
       "      <td>...</td>\n",
       "      <td>10.975</td>\n",
       "      <td>11.304</td>\n",
       "      <td>11.207</td>\n",
       "      <td>11.246</td>\n",
       "      <td>11.445</td>\n",
       "      <td>11.15</td>\n",
       "      <td>11.539</td>\n",
       "      <td>10.98</td>\n",
       "      <td>11.093</td>\n",
       "      <td>11.314</td>\n",
       "    </tr>\n",
       "    <tr>\n",
       "      <th>10338004</th>\n",
       "      <td>10.021</td>\n",
       "      <td>9.627</td>\n",
       "      <td>9.875</td>\n",
       "      <td>9.817</td>\n",
       "      <td>10.031</td>\n",
       "      <td>9.906</td>\n",
       "      <td>9.766</td>\n",
       "      <td>9.881</td>\n",
       "      <td>10.064</td>\n",
       "      <td>9.78</td>\n",
       "      <td>...</td>\n",
       "      <td>9.83</td>\n",
       "      <td>9.929</td>\n",
       "      <td>9.972</td>\n",
       "      <td>9.929</td>\n",
       "      <td>10.065</td>\n",
       "      <td>9.772</td>\n",
       "      <td>9.973</td>\n",
       "      <td>9.926</td>\n",
       "      <td>9.799</td>\n",
       "      <td>10.021</td>\n",
       "    </tr>\n",
       "    <tr>\n",
       "      <th>10338017</th>\n",
       "      <td>13.598</td>\n",
       "      <td>13.342</td>\n",
       "      <td>13.509</td>\n",
       "      <td>13.518</td>\n",
       "      <td>13.495</td>\n",
       "      <td>13.516</td>\n",
       "      <td>13.4</td>\n",
       "      <td>13.42</td>\n",
       "      <td>13.594</td>\n",
       "      <td>13.385</td>\n",
       "      <td>...</td>\n",
       "      <td>13.562</td>\n",
       "      <td>13.723</td>\n",
       "      <td>13.667</td>\n",
       "      <td>13.543</td>\n",
       "      <td>13.811</td>\n",
       "      <td>13.482</td>\n",
       "      <td>13.651</td>\n",
       "      <td>13.559</td>\n",
       "      <td>13.575</td>\n",
       "      <td>13.827</td>\n",
       "    </tr>\n",
       "    <tr>\n",
       "      <th>10338025</th>\n",
       "      <td>9.937</td>\n",
       "      <td>9.654</td>\n",
       "      <td>9.743</td>\n",
       "      <td>9.868</td>\n",
       "      <td>9.854</td>\n",
       "      <td>9.866</td>\n",
       "      <td>9.719</td>\n",
       "      <td>9.799</td>\n",
       "      <td>9.948</td>\n",
       "      <td>9.875</td>\n",
       "      <td>...</td>\n",
       "      <td>9.866</td>\n",
       "      <td>10</td>\n",
       "      <td>9.892</td>\n",
       "      <td>10.007</td>\n",
       "      <td>10.092</td>\n",
       "      <td>9.809</td>\n",
       "      <td>10.074</td>\n",
       "      <td>9.828</td>\n",
       "      <td>9.967</td>\n",
       "      <td>10.035</td>\n",
       "    </tr>\n",
       "    <tr>\n",
       "      <th>...</th>\n",
       "      <td>...</td>\n",
       "      <td>...</td>\n",
       "      <td>...</td>\n",
       "      <td>...</td>\n",
       "      <td>...</td>\n",
       "      <td>...</td>\n",
       "      <td>...</td>\n",
       "      <td>...</td>\n",
       "      <td>...</td>\n",
       "      <td>...</td>\n",
       "      <td>...</td>\n",
       "      <td>...</td>\n",
       "      <td>...</td>\n",
       "      <td>...</td>\n",
       "      <td>...</td>\n",
       "      <td>...</td>\n",
       "      <td>...</td>\n",
       "      <td>...</td>\n",
       "      <td>...</td>\n",
       "      <td>...</td>\n",
       "      <td>...</td>\n",
       "    </tr>\n",
       "    <tr>\n",
       "      <th>10608720</th>\n",
       "      <td>9</td>\n",
       "      <td>9.033</td>\n",
       "      <td>9.154</td>\n",
       "      <td>8.93</td>\n",
       "      <td>9.274</td>\n",
       "      <td>8.834</td>\n",
       "      <td>9.065</td>\n",
       "      <td>9.121</td>\n",
       "      <td>9.103</td>\n",
       "      <td>9.127</td>\n",
       "      <td>...</td>\n",
       "      <td>9.085</td>\n",
       "      <td>9.136</td>\n",
       "      <td>9.199</td>\n",
       "      <td>9.265</td>\n",
       "      <td>9.126</td>\n",
       "      <td>9.092</td>\n",
       "      <td>9.342</td>\n",
       "      <td>8.994</td>\n",
       "      <td>9.025</td>\n",
       "      <td>9.337</td>\n",
       "    </tr>\n",
       "    <tr>\n",
       "      <th>10608721</th>\n",
       "      <td>9.121</td>\n",
       "      <td>9.608</td>\n",
       "      <td>9.108</td>\n",
       "      <td>9.218</td>\n",
       "      <td>8.926</td>\n",
       "      <td>9.228</td>\n",
       "      <td>9.177</td>\n",
       "      <td>9.078</td>\n",
       "      <td>9.042</td>\n",
       "      <td>9.082</td>\n",
       "      <td>...</td>\n",
       "      <td>9.09</td>\n",
       "      <td>9.185</td>\n",
       "      <td>8.891</td>\n",
       "      <td>9.319</td>\n",
       "      <td>9.483</td>\n",
       "      <td>9.093</td>\n",
       "      <td>8.923</td>\n",
       "      <td>9.135</td>\n",
       "      <td>9.028</td>\n",
       "      <td>8.967</td>\n",
       "    </tr>\n",
       "    <tr>\n",
       "      <th>10608722</th>\n",
       "      <td>5.691</td>\n",
       "      <td>5.466</td>\n",
       "      <td>5.591</td>\n",
       "      <td>5.674</td>\n",
       "      <td>5.831</td>\n",
       "      <td>5.541</td>\n",
       "      <td>5.618</td>\n",
       "      <td>5.604</td>\n",
       "      <td>5.553</td>\n",
       "      <td>5.504</td>\n",
       "      <td>...</td>\n",
       "      <td>5.522</td>\n",
       "      <td>5.379</td>\n",
       "      <td>5.525</td>\n",
       "      <td>5.573</td>\n",
       "      <td>5.323</td>\n",
       "      <td>5.61</td>\n",
       "      <td>5.621</td>\n",
       "      <td>5.657</td>\n",
       "      <td>5.591</td>\n",
       "      <td>5.336</td>\n",
       "    </tr>\n",
       "    <tr>\n",
       "      <th>10608723</th>\n",
       "      <td>5.368</td>\n",
       "      <td>5.335</td>\n",
       "      <td>5.23</td>\n",
       "      <td>5.245</td>\n",
       "      <td>5.373</td>\n",
       "      <td>5.199</td>\n",
       "      <td>5.255</td>\n",
       "      <td>5.282</td>\n",
       "      <td>5.161</td>\n",
       "      <td>5.276</td>\n",
       "      <td>...</td>\n",
       "      <td>5.109</td>\n",
       "      <td>5.229</td>\n",
       "      <td>5.157</td>\n",
       "      <td>5.057</td>\n",
       "      <td>5.181</td>\n",
       "      <td>5.139</td>\n",
       "      <td>5.157</td>\n",
       "      <td>5.079</td>\n",
       "      <td>5.142</td>\n",
       "      <td>4.94</td>\n",
       "    </tr>\n",
       "    <tr>\n",
       "      <th>10608724</th>\n",
       "      <td>6.874</td>\n",
       "      <td>6.968</td>\n",
       "      <td>6.851</td>\n",
       "      <td>7.058</td>\n",
       "      <td>6.764</td>\n",
       "      <td>6.854</td>\n",
       "      <td>6.945</td>\n",
       "      <td>6.889</td>\n",
       "      <td>6.752</td>\n",
       "      <td>6.752</td>\n",
       "      <td>...</td>\n",
       "      <td>6.853</td>\n",
       "      <td>6.921</td>\n",
       "      <td>6.866</td>\n",
       "      <td>6.789</td>\n",
       "      <td>6.996</td>\n",
       "      <td>6.973</td>\n",
       "      <td>6.994</td>\n",
       "      <td>6.801</td>\n",
       "      <td>6.777</td>\n",
       "      <td>6.966</td>\n",
       "    </tr>\n",
       "  </tbody>\n",
       "</table>\n",
       "<p>34760 rows × 89 columns</p>\n",
       "</div>"
      ],
      "text/plain": [
       "              BXD44_F BXD49_M BXD44_M BXD102_M BXD43_M BXD45_F BXD45_M  \\\n",
       "!Sample_title                                                            \n",
       "10338001       12.612  12.509  12.629    12.56  12.533  12.646  12.426   \n",
       "10338003       11.187  11.043  11.116   11.104   11.09  11.151  10.955   \n",
       "10338004       10.021   9.627   9.875    9.817  10.031   9.906   9.766   \n",
       "10338017       13.598  13.342  13.509   13.518  13.495  13.516    13.4   \n",
       "10338025        9.937   9.654   9.743    9.868   9.854   9.866   9.719   \n",
       "...               ...     ...     ...      ...     ...     ...     ...   \n",
       "10608720            9   9.033   9.154     8.93   9.274   8.834   9.065   \n",
       "10608721        9.121   9.608   9.108    9.218   8.926   9.228   9.177   \n",
       "10608722        5.691   5.466   5.591    5.674   5.831   5.541   5.618   \n",
       "10608723        5.368   5.335    5.23    5.245   5.373   5.199   5.255   \n",
       "10608724        6.874   6.968   6.851    7.058   6.764   6.854   6.945   \n",
       "\n",
       "              BXD103_M BXD103_F BXD60_F  ... BXD92A_F BXD70_F BXD92A_M  \\\n",
       "!Sample_title                            ...                             \n",
       "10338001        12.465   12.728  12.429  ...   12.451  12.812   12.757   \n",
       "10338003         11.06   11.256  10.968  ...   10.975  11.304   11.207   \n",
       "10338004         9.881   10.064    9.78  ...     9.83   9.929    9.972   \n",
       "10338017         13.42   13.594  13.385  ...   13.562  13.723   13.667   \n",
       "10338025         9.799    9.948   9.875  ...    9.866      10    9.892   \n",
       "...                ...      ...     ...  ...      ...     ...      ...   \n",
       "10608720         9.121    9.103   9.127  ...    9.085   9.136    9.199   \n",
       "10608721         9.078    9.042   9.082  ...     9.09   9.185    8.891   \n",
       "10608722         5.604    5.553   5.504  ...    5.522   5.379    5.525   \n",
       "10608723         5.282    5.161   5.276  ...    5.109   5.229    5.157   \n",
       "10608724         6.889    6.752   6.752  ...    6.853   6.921    6.866   \n",
       "\n",
       "              BXD68_F BXD68_M BXD79_F BXD85_F BXD85_M BXD101_M BXD101_F  \n",
       "!Sample_title                                                            \n",
       "10338001       12.697  12.943  12.622  12.963  12.522   12.558   12.872  \n",
       "10338003       11.246  11.445   11.15  11.539   10.98   11.093   11.314  \n",
       "10338004        9.929  10.065   9.772   9.973   9.926    9.799   10.021  \n",
       "10338017       13.543  13.811  13.482  13.651  13.559   13.575   13.827  \n",
       "10338025       10.007  10.092   9.809  10.074   9.828    9.967   10.035  \n",
       "...               ...     ...     ...     ...     ...      ...      ...  \n",
       "10608720        9.265   9.126   9.092   9.342   8.994    9.025    9.337  \n",
       "10608721        9.319   9.483   9.093   8.923   9.135    9.028    8.967  \n",
       "10608722        5.573   5.323    5.61   5.621   5.657    5.591    5.336  \n",
       "10608723        5.057   5.181   5.139   5.157   5.079    5.142     4.94  \n",
       "10608724        6.789   6.996   6.973   6.994   6.801    6.777    6.966  \n",
       "\n",
       "[34760 rows x 89 columns]"
      ]
     },
     "execution_count": 3,
     "metadata": {},
     "output_type": "execute_result"
    }
   ],
   "source": [
    "hypothalamus_expression_df_no_metadata = hypothalamus_expression_df.iloc[33:,:]\n",
    "hypothalamus_expression_df_no_metadata"
   ]
  },
  {
   "cell_type": "code",
   "execution_count": 36,
   "metadata": {},
   "outputs": [],
   "source": [
    "# liver_expression_df = liver_expression_df.loc[hypothalamus_expression_df.loc[hypothalamus_expression_df.apply(lambda row: type(row.name) != int, axis = 1)]]\n",
    "\n",
    "liver_expression_df_no_metadata = liver_expression_df.iloc[46:-1,:]\n"
   ]
  },
  {
   "cell_type": "code",
   "execution_count": 37,
   "metadata": {},
   "outputs": [],
   "source": [
    "# Set minimal maximal expression value to be the .025 percentile of all maximal values\n",
    "\n",
    "# Liver data \n",
    "liver_expression_df_no_metadata = liver_expression_df_no_metadata.apply(lambda col: col.astype(float))\n",
    "thr = liver_expression_df_no_metadata.max(axis = 1).quantile(.025)\n",
    "mask = liver_expression_df_no_metadata.apply(lambda row: row.max() > thr, axis = 1)\n",
    "liver_expression_df_no_metadata = liver_expression_df_no_metadata.loc[mask]\n",
    "\n",
    "# Hypo data\n",
    "hypothalamus_expression_df_no_metadata = hypothalamus_expression_df_no_metadata.apply(lambda col: col.astype(float))\n",
    "thr = hypothalamus_expression_df_no_metadata.max(axis = 1).quantile(.025)\n",
    "mask = hypothalamus_expression_df_no_metadata.apply(lambda row: row.max() > thr, axis = 1)\n",
    "hypothalamus_expression_df_no_metadata = hypothalamus_expression_df_no_metadata.loc[mask]\n",
    "\n",
    "\n"
   ]
  },
  {
   "cell_type": "code",
   "execution_count": 38,
   "metadata": {},
   "outputs": [
    {
     "name": "stdout",
     "output_type": "stream",
     "text": [
      "(20346, 122)\n",
      "(18311, 122)\n"
     ]
    },
    {
     "data": {
      "text/plain": [
       "'\\n# Hypo data\\nhypothalamus_expression_df_no_metadata = hypothalamus_expression_df_no_metadata.apply(lambda col: col.astype(float))\\nthr = hypothalamus_expression_df_no_metadata.max(axis = 1).quantile(.025)\\nmask = hypothalamus_expression_df_no_metadata.apply(lambda row: row.max() > thr, axis = 1)\\nhypothalamus_expression_df_no_metadata = hypothalamus_expression_df_no_metadata.loc[mask]\\n\\n'"
      ]
     },
     "execution_count": 38,
     "metadata": {},
     "output_type": "execute_result"
    }
   ],
   "source": [
    "# Set minimal expression variance per row to be the .1 percentile of all variance values\n",
    "\n",
    "# Liver data \n",
    "print(liver_expression_df_no_metadata.shape)\n",
    "thr = liver_expression_df_no_metadata.var(axis = 1).quantile(.1)\n",
    "mask = liver_expression_df_no_metadata.apply(lambda row: row.var() > thr, axis = 1)\n",
    "liver_expression_df_no_metadata = liver_expression_df_no_metadata.loc[mask]\n",
    "print(liver_expression_df_no_metadata.shape)\n",
    "'''\n",
    "# Hypo data\n",
    "hypothalamus_expression_df_no_metadata = hypothalamus_expression_df_no_metadata.apply(lambda col: col.astype(float))\n",
    "thr = hypothalamus_expression_df_no_metadata.max(axis = 1).quantile(.025)\n",
    "mask = hypothalamus_expression_df_no_metadata.apply(lambda row: row.max() > thr, axis = 1)\n",
    "hypothalamus_expression_df_no_metadata = hypothalamus_expression_df_no_metadata.loc[mask]\n",
    "\n",
    "'''\n"
   ]
  },
  {
   "cell_type": "code",
   "execution_count": 7,
   "metadata": {},
   "outputs": [
    {
     "data": {
      "text/plain": [
       "<matplotlib.axes._subplots.AxesSubplot at 0x7fad1cde7430>"
      ]
     },
     "execution_count": 7,
     "metadata": {},
     "output_type": "execute_result"
    },
    {
     "data": {
      "image/png": "[encoded data removed]",
      "text/plain": [
       "<Figure size 432x288 with 1 Axes>"
      ]
     },
     "metadata": {
      "needs_background": "light"
     },
     "output_type": "display_data"
    }
   ],
   "source": [
    "hypothalamus_expression_df_no_metadata.max(axis = 1).hist()"
   ]
  },
  {
   "cell_type": "code",
   "execution_count": 9,
   "metadata": {},
   "outputs": [
    {
     "data": {
      "text/plain": [
       "<matplotlib.axes._subplots.AxesSubplot at 0x7fad0847ed60>"
      ]
     },
     "execution_count": 9,
     "metadata": {},
     "output_type": "execute_result"
    },
    {
     "data": {
      "image/png": "[encoded data removed]",
      "text/plain": [
       "<Figure size 432x288 with 1 Axes>"
      ]
     },
     "metadata": {
      "needs_background": "light"
     },
     "output_type": "display_data"
    }
   ],
   "source": [
    "hypothalamus_expression_df_no_metadata.var(axis = 1).hist()"
   ]
  },
  {
   "cell_type": "code",
   "execution_count": 16,
   "metadata": {},
   "outputs": [
    {
     "data": {
      "text/plain": [
       "0.010018711797752818"
      ]
     },
     "execution_count": 16,
     "metadata": {},
     "output_type": "execute_result"
    }
   ],
   "source": [
    "thr = hypothalamus_expression_df_no_metadata.var(axis = 1).quantile(.1)"
   ]
  },
  {
   "cell_type": "code",
   "execution_count": 19,
   "metadata": {},
   "outputs": [
    {
     "data": {
      "text/plain": [
       "(0.0, 0.1)"
      ]
     },
     "execution_count": 19,
     "metadata": {},
     "output_type": "execute_result"
    },
    {
     "data": {
      "image/png": "[encoded data removed]",
      "text/plain": [
       "<Figure size 432x288 with 1 Axes>"
      ]
     },
     "metadata": {
      "needs_background": "light"
     },
     "output_type": "display_data"
    }
   ],
   "source": [
    "sns.kdeplot(data=hypothalamus_expression_df_no_metadata.var(axis = 1)).set_xlim([0,.1])"
   ]
  },
  {
   "cell_type": "code",
   "execution_count": 20,
   "metadata": {},
   "outputs": [
    {
     "data": {
      "text/plain": [
       "(33890, 89)"
      ]
     },
     "execution_count": 20,
     "metadata": {},
     "output_type": "execute_result"
    }
   ],
   "source": [
    "hypothalamus_expression_df_no_metadata.shape"
   ]
  },
  {
   "cell_type": "markdown",
   "metadata": {},
   "source": [
    "###  Load regression results"
   ]
  },
  {
   "cell_type": "code",
   "execution_count": 2,
   "metadata": {},
   "outputs": [
    {
     "name": "stdout",
     "output_type": "stream",
     "text": [
      "BXD.geno          drors_work.ipynb  liver_eqtl.pkl    preprocessing.py\r\n",
      "\u001B[1m\u001B[36m__pycache__\u001B[m\u001B[m/      hypothalamus.txt  main.py\r\n",
      "\u001B[1m\u001B[36mdocs\u001B[m\u001B[m/             liver.txt         phenotypes.xls\r\n"
     ]
    }
   ],
   "source": [
    "ls"
   ]
  },
  {
   "cell_type": "code",
   "execution_count": 6,
   "metadata": {},
   "outputs": [],
   "source": [
    "\n",
    "res = pd.read_pickle('/Users/d_private/_git/system_genetics/bin/liver_eqtl.pkl')"
   ]
  },
  {
   "cell_type": "code",
   "execution_count": 11,
   "metadata": {},
   "outputs": [],
   "source": [
    "with open('bin/liver_eqtl.pkl','rb') as f:\n",
    "    liver_eqtl_results = pickle.load(f)"
   ]
  },
  {
   "cell_type": "code",
   "execution_count": 10,
   "metadata": {},
   "outputs": [
    {
     "ename": "AttributeError",
     "evalue": "'DataFrame' object has no attribute '_data'",
     "output_type": "error",
     "traceback": [
      "\u001B[0;31m---------------------------------------------------------------------------\u001B[0m",
      "\u001B[0;31mAttributeError\u001B[0m                            Traceback (most recent call last)",
      "\u001B[0;32m~/anaconda3/envs/PyProgAll/lib/python3.8/site-packages/IPython/core/formatters.py\u001B[0m in \u001B[0;36m__call__\u001B[0;34m(self, obj)\u001B[0m\n\u001B[1;32m    700\u001B[0m                 \u001B[0mtype_pprinters\u001B[0m\u001B[0;34m=\u001B[0m\u001B[0mself\u001B[0m\u001B[0;34m.\u001B[0m\u001B[0mtype_printers\u001B[0m\u001B[0;34m,\u001B[0m\u001B[0;34m\u001B[0m\u001B[0;34m\u001B[0m\u001B[0m\n\u001B[1;32m    701\u001B[0m                 deferred_pprinters=self.deferred_printers)\n\u001B[0;32m--> 702\u001B[0;31m             \u001B[0mprinter\u001B[0m\u001B[0;34m.\u001B[0m\u001B[0mpretty\u001B[0m\u001B[0;34m(\u001B[0m\u001B[0mobj\u001B[0m\u001B[0;34m)\u001B[0m\u001B[0;34m\u001B[0m\u001B[0;34m\u001B[0m\u001B[0m\n\u001B[0m\u001B[1;32m    703\u001B[0m             \u001B[0mprinter\u001B[0m\u001B[0;34m.\u001B[0m\u001B[0mflush\u001B[0m\u001B[0;34m(\u001B[0m\u001B[0;34m)\u001B[0m\u001B[0;34m\u001B[0m\u001B[0;34m\u001B[0m\u001B[0m\n\u001B[1;32m    704\u001B[0m             \u001B[0;32mreturn\u001B[0m \u001B[0mstream\u001B[0m\u001B[0;34m.\u001B[0m\u001B[0mgetvalue\u001B[0m\u001B[0;34m(\u001B[0m\u001B[0;34m)\u001B[0m\u001B[0;34m\u001B[0m\u001B[0;34m\u001B[0m\u001B[0m\n",
      "\u001B[0;32m~/anaconda3/envs/PyProgAll/lib/python3.8/site-packages/IPython/lib/pretty.py\u001B[0m in \u001B[0;36mpretty\u001B[0;34m(self, obj)\u001B[0m\n\u001B[1;32m    392\u001B[0m                         \u001B[0;32mif\u001B[0m \u001B[0mcls\u001B[0m \u001B[0;32mis\u001B[0m \u001B[0;32mnot\u001B[0m \u001B[0mobject\u001B[0m\u001B[0;31m \u001B[0m\u001B[0;31m\\\u001B[0m\u001B[0;34m\u001B[0m\u001B[0;34m\u001B[0m\u001B[0m\n\u001B[1;32m    393\u001B[0m                                 \u001B[0;32mand\u001B[0m \u001B[0mcallable\u001B[0m\u001B[0;34m(\u001B[0m\u001B[0mcls\u001B[0m\u001B[0;34m.\u001B[0m\u001B[0m__dict__\u001B[0m\u001B[0;34m.\u001B[0m\u001B[0mget\u001B[0m\u001B[0;34m(\u001B[0m\u001B[0;34m'__repr__'\u001B[0m\u001B[0;34m)\u001B[0m\u001B[0;34m)\u001B[0m\u001B[0;34m:\u001B[0m\u001B[0;34m\u001B[0m\u001B[0;34m\u001B[0m\u001B[0m\n\u001B[0;32m--> 394\u001B[0;31m                             \u001B[0;32mreturn\u001B[0m \u001B[0m_repr_pprint\u001B[0m\u001B[0;34m(\u001B[0m\u001B[0mobj\u001B[0m\u001B[0;34m,\u001B[0m \u001B[0mself\u001B[0m\u001B[0;34m,\u001B[0m \u001B[0mcycle\u001B[0m\u001B[0;34m)\u001B[0m\u001B[0;34m\u001B[0m\u001B[0;34m\u001B[0m\u001B[0m\n\u001B[0m\u001B[1;32m    395\u001B[0m \u001B[0;34m\u001B[0m\u001B[0m\n\u001B[1;32m    396\u001B[0m             \u001B[0;32mreturn\u001B[0m \u001B[0m_default_pprint\u001B[0m\u001B[0;34m(\u001B[0m\u001B[0mobj\u001B[0m\u001B[0;34m,\u001B[0m \u001B[0mself\u001B[0m\u001B[0;34m,\u001B[0m \u001B[0mcycle\u001B[0m\u001B[0;34m)\u001B[0m\u001B[0;34m\u001B[0m\u001B[0;34m\u001B[0m\u001B[0m\n",
      "\u001B[0;32m~/anaconda3/envs/PyProgAll/lib/python3.8/site-packages/IPython/lib/pretty.py\u001B[0m in \u001B[0;36m_repr_pprint\u001B[0;34m(obj, p, cycle)\u001B[0m\n\u001B[1;32m    698\u001B[0m     \u001B[0;34m\"\"\"A pprint that just redirects to the normal repr function.\"\"\"\u001B[0m\u001B[0;34m\u001B[0m\u001B[0;34m\u001B[0m\u001B[0m\n\u001B[1;32m    699\u001B[0m     \u001B[0;31m# Find newlines and replace them with p.break_()\u001B[0m\u001B[0;34m\u001B[0m\u001B[0;34m\u001B[0m\u001B[0;34m\u001B[0m\u001B[0m\n\u001B[0;32m--> 700\u001B[0;31m     \u001B[0moutput\u001B[0m \u001B[0;34m=\u001B[0m \u001B[0mrepr\u001B[0m\u001B[0;34m(\u001B[0m\u001B[0mobj\u001B[0m\u001B[0;34m)\u001B[0m\u001B[0;34m\u001B[0m\u001B[0;34m\u001B[0m\u001B[0m\n\u001B[0m\u001B[1;32m    701\u001B[0m     \u001B[0mlines\u001B[0m \u001B[0;34m=\u001B[0m \u001B[0moutput\u001B[0m\u001B[0;34m.\u001B[0m\u001B[0msplitlines\u001B[0m\u001B[0;34m(\u001B[0m\u001B[0;34m)\u001B[0m\u001B[0;34m\u001B[0m\u001B[0;34m\u001B[0m\u001B[0m\n\u001B[1;32m    702\u001B[0m     \u001B[0;32mwith\u001B[0m \u001B[0mp\u001B[0m\u001B[0;34m.\u001B[0m\u001B[0mgroup\u001B[0m\u001B[0;34m(\u001B[0m\u001B[0;34m)\u001B[0m\u001B[0;34m:\u001B[0m\u001B[0;34m\u001B[0m\u001B[0;34m\u001B[0m\u001B[0m\n",
      "\u001B[0;32m~/anaconda3/envs/PyProgAll/lib/python3.8/site-packages/pandas/core/frame.py\u001B[0m in \u001B[0;36m__repr__\u001B[0;34m(self)\u001B[0m\n\u001B[1;32m    678\u001B[0m         \u001B[0;32melse\u001B[0m\u001B[0;34m:\u001B[0m\u001B[0;34m\u001B[0m\u001B[0;34m\u001B[0m\u001B[0m\n\u001B[1;32m    679\u001B[0m             \u001B[0mwidth\u001B[0m \u001B[0;34m=\u001B[0m \u001B[0;32mNone\u001B[0m\u001B[0;34m\u001B[0m\u001B[0;34m\u001B[0m\u001B[0m\n\u001B[0;32m--> 680\u001B[0;31m         self.to_string(\n\u001B[0m\u001B[1;32m    681\u001B[0m             \u001B[0mbuf\u001B[0m\u001B[0;34m=\u001B[0m\u001B[0mbuf\u001B[0m\u001B[0;34m,\u001B[0m\u001B[0;34m\u001B[0m\u001B[0;34m\u001B[0m\u001B[0m\n\u001B[1;32m    682\u001B[0m             \u001B[0mmax_rows\u001B[0m\u001B[0;34m=\u001B[0m\u001B[0mmax_rows\u001B[0m\u001B[0;34m,\u001B[0m\u001B[0;34m\u001B[0m\u001B[0;34m\u001B[0m\u001B[0m\n",
      "\u001B[0;32m~/anaconda3/envs/PyProgAll/lib/python3.8/site-packages/pandas/core/frame.py\u001B[0m in \u001B[0;36mto_string\u001B[0;34m(self, buf, columns, col_space, header, index, na_rep, formatters, float_format, sparsify, index_names, justify, max_rows, min_rows, max_cols, show_dimensions, decimal, line_width, max_colwidth, encoding)\u001B[0m\n\u001B[1;32m    799\u001B[0m \u001B[0;34m\u001B[0m\u001B[0m\n\u001B[1;32m    800\u001B[0m         \u001B[0;32mwith\u001B[0m \u001B[0moption_context\u001B[0m\u001B[0;34m(\u001B[0m\u001B[0;34m\"display.max_colwidth\"\u001B[0m\u001B[0;34m,\u001B[0m \u001B[0mmax_colwidth\u001B[0m\u001B[0;34m)\u001B[0m\u001B[0;34m:\u001B[0m\u001B[0;34m\u001B[0m\u001B[0;34m\u001B[0m\u001B[0m\n\u001B[0;32m--> 801\u001B[0;31m             formatter = fmt.DataFrameFormatter(\n\u001B[0m\u001B[1;32m    802\u001B[0m                 \u001B[0mself\u001B[0m\u001B[0;34m,\u001B[0m\u001B[0;34m\u001B[0m\u001B[0;34m\u001B[0m\u001B[0m\n\u001B[1;32m    803\u001B[0m                 \u001B[0mcolumns\u001B[0m\u001B[0;34m=\u001B[0m\u001B[0mcolumns\u001B[0m\u001B[0;34m,\u001B[0m\u001B[0;34m\u001B[0m\u001B[0;34m\u001B[0m\u001B[0m\n",
      "\u001B[0;32m~/anaconda3/envs/PyProgAll/lib/python3.8/site-packages/pandas/io/formats/format.py\u001B[0m in \u001B[0;36m__init__\u001B[0;34m(self, frame, columns, col_space, header, index, na_rep, formatters, justify, float_format, sparsify, index_names, line_width, max_rows, min_rows, max_cols, show_dimensions, decimal, table_id, render_links, bold_rows, escape)\u001B[0m\n\u001B[1;32m    591\u001B[0m         \u001B[0mself\u001B[0m\u001B[0;34m.\u001B[0m\u001B[0mmin_rows\u001B[0m \u001B[0;34m=\u001B[0m \u001B[0mmin_rows\u001B[0m\u001B[0;34m\u001B[0m\u001B[0;34m\u001B[0m\u001B[0m\n\u001B[1;32m    592\u001B[0m         \u001B[0mself\u001B[0m\u001B[0;34m.\u001B[0m\u001B[0mmax_cols\u001B[0m \u001B[0;34m=\u001B[0m \u001B[0mmax_cols\u001B[0m\u001B[0;34m\u001B[0m\u001B[0;34m\u001B[0m\u001B[0m\n\u001B[0;32m--> 593\u001B[0;31m         \u001B[0mself\u001B[0m\u001B[0;34m.\u001B[0m\u001B[0mmax_rows_displayed\u001B[0m \u001B[0;34m=\u001B[0m \u001B[0mmin\u001B[0m\u001B[0;34m(\u001B[0m\u001B[0mmax_rows\u001B[0m \u001B[0;32mor\u001B[0m \u001B[0mlen\u001B[0m\u001B[0;34m(\u001B[0m\u001B[0mself\u001B[0m\u001B[0;34m.\u001B[0m\u001B[0mframe\u001B[0m\u001B[0;34m)\u001B[0m\u001B[0;34m,\u001B[0m \u001B[0mlen\u001B[0m\u001B[0;34m(\u001B[0m\u001B[0mself\u001B[0m\u001B[0;34m.\u001B[0m\u001B[0mframe\u001B[0m\u001B[0;34m)\u001B[0m\u001B[0;34m)\u001B[0m\u001B[0;34m\u001B[0m\u001B[0;34m\u001B[0m\u001B[0m\n\u001B[0m\u001B[1;32m    594\u001B[0m         \u001B[0mself\u001B[0m\u001B[0;34m.\u001B[0m\u001B[0mshow_dimensions\u001B[0m \u001B[0;34m=\u001B[0m \u001B[0mshow_dimensions\u001B[0m\u001B[0;34m\u001B[0m\u001B[0;34m\u001B[0m\u001B[0m\n\u001B[1;32m    595\u001B[0m         \u001B[0mself\u001B[0m\u001B[0;34m.\u001B[0m\u001B[0mtable_id\u001B[0m \u001B[0;34m=\u001B[0m \u001B[0mtable_id\u001B[0m\u001B[0;34m\u001B[0m\u001B[0;34m\u001B[0m\u001B[0m\n",
      "\u001B[0;32m~/anaconda3/envs/PyProgAll/lib/python3.8/site-packages/pandas/core/frame.py\u001B[0m in \u001B[0;36m__len__\u001B[0;34m(self)\u001B[0m\n\u001B[1;32m   1039\u001B[0m         \u001B[0mReturns\u001B[0m \u001B[0mlength\u001B[0m \u001B[0mof\u001B[0m \u001B[0minfo\u001B[0m \u001B[0maxis\u001B[0m\u001B[0;34m,\u001B[0m \u001B[0mbut\u001B[0m \u001B[0mhere\u001B[0m \u001B[0mwe\u001B[0m \u001B[0muse\u001B[0m \u001B[0mthe\u001B[0m \u001B[0mindex\u001B[0m\u001B[0;34m.\u001B[0m\u001B[0;34m\u001B[0m\u001B[0;34m\u001B[0m\u001B[0m\n\u001B[1;32m   1040\u001B[0m         \"\"\"\n\u001B[0;32m-> 1041\u001B[0;31m         \u001B[0;32mreturn\u001B[0m \u001B[0mlen\u001B[0m\u001B[0;34m(\u001B[0m\u001B[0mself\u001B[0m\u001B[0;34m.\u001B[0m\u001B[0mindex\u001B[0m\u001B[0;34m)\u001B[0m\u001B[0;34m\u001B[0m\u001B[0;34m\u001B[0m\u001B[0m\n\u001B[0m\u001B[1;32m   1042\u001B[0m \u001B[0;34m\u001B[0m\u001B[0m\n\u001B[1;32m   1043\u001B[0m     \u001B[0;32mdef\u001B[0m \u001B[0mdot\u001B[0m\u001B[0;34m(\u001B[0m\u001B[0mself\u001B[0m\u001B[0;34m,\u001B[0m \u001B[0mother\u001B[0m\u001B[0;34m)\u001B[0m\u001B[0;34m:\u001B[0m\u001B[0;34m\u001B[0m\u001B[0;34m\u001B[0m\u001B[0m\n",
      "\u001B[0;32m~/anaconda3/envs/PyProgAll/lib/python3.8/site-packages/pandas/core/generic.py\u001B[0m in \u001B[0;36m__getattr__\u001B[0;34m(self, name)\u001B[0m\n\u001B[1;32m   5268\u001B[0m             \u001B[0;32mor\u001B[0m \u001B[0mname\u001B[0m \u001B[0;32min\u001B[0m \u001B[0mself\u001B[0m\u001B[0;34m.\u001B[0m\u001B[0m_accessors\u001B[0m\u001B[0;34m\u001B[0m\u001B[0;34m\u001B[0m\u001B[0m\n\u001B[1;32m   5269\u001B[0m         ):\n\u001B[0;32m-> 5270\u001B[0;31m             \u001B[0;32mreturn\u001B[0m \u001B[0mobject\u001B[0m\u001B[0;34m.\u001B[0m\u001B[0m__getattribute__\u001B[0m\u001B[0;34m(\u001B[0m\u001B[0mself\u001B[0m\u001B[0;34m,\u001B[0m \u001B[0mname\u001B[0m\u001B[0;34m)\u001B[0m\u001B[0;34m\u001B[0m\u001B[0;34m\u001B[0m\u001B[0m\n\u001B[0m\u001B[1;32m   5271\u001B[0m         \u001B[0;32melse\u001B[0m\u001B[0;34m:\u001B[0m\u001B[0;34m\u001B[0m\u001B[0;34m\u001B[0m\u001B[0m\n\u001B[1;32m   5272\u001B[0m             \u001B[0;32mif\u001B[0m \u001B[0mself\u001B[0m\u001B[0;34m.\u001B[0m\u001B[0m_info_axis\u001B[0m\u001B[0;34m.\u001B[0m\u001B[0m_can_hold_identifiers_and_holds_name\u001B[0m\u001B[0;34m(\u001B[0m\u001B[0mname\u001B[0m\u001B[0;34m)\u001B[0m\u001B[0;34m:\u001B[0m\u001B[0;34m\u001B[0m\u001B[0;34m\u001B[0m\u001B[0m\n",
      "\u001B[0;32mpandas/_libs/properties.pyx\u001B[0m in \u001B[0;36mpandas._libs.properties.AxisProperty.__get__\u001B[0;34m()\u001B[0m\n",
      "\u001B[0;32m~/anaconda3/envs/PyProgAll/lib/python3.8/site-packages/pandas/core/generic.py\u001B[0m in \u001B[0;36m__getattr__\u001B[0;34m(self, name)\u001B[0m\n\u001B[1;32m   5268\u001B[0m             \u001B[0;32mor\u001B[0m \u001B[0mname\u001B[0m \u001B[0;32min\u001B[0m \u001B[0mself\u001B[0m\u001B[0;34m.\u001B[0m\u001B[0m_accessors\u001B[0m\u001B[0;34m\u001B[0m\u001B[0;34m\u001B[0m\u001B[0m\n\u001B[1;32m   5269\u001B[0m         ):\n\u001B[0;32m-> 5270\u001B[0;31m             \u001B[0;32mreturn\u001B[0m \u001B[0mobject\u001B[0m\u001B[0;34m.\u001B[0m\u001B[0m__getattribute__\u001B[0m\u001B[0;34m(\u001B[0m\u001B[0mself\u001B[0m\u001B[0;34m,\u001B[0m \u001B[0mname\u001B[0m\u001B[0;34m)\u001B[0m\u001B[0;34m\u001B[0m\u001B[0;34m\u001B[0m\u001B[0m\n\u001B[0m\u001B[1;32m   5271\u001B[0m         \u001B[0;32melse\u001B[0m\u001B[0;34m:\u001B[0m\u001B[0;34m\u001B[0m\u001B[0;34m\u001B[0m\u001B[0m\n\u001B[1;32m   5272\u001B[0m             \u001B[0;32mif\u001B[0m \u001B[0mself\u001B[0m\u001B[0;34m.\u001B[0m\u001B[0m_info_axis\u001B[0m\u001B[0;34m.\u001B[0m\u001B[0m_can_hold_identifiers_and_holds_name\u001B[0m\u001B[0;34m(\u001B[0m\u001B[0mname\u001B[0m\u001B[0;34m)\u001B[0m\u001B[0;34m:\u001B[0m\u001B[0;34m\u001B[0m\u001B[0;34m\u001B[0m\u001B[0m\n",
      "\u001B[0;31mAttributeError\u001B[0m: 'DataFrame' object has no attribute '_data'"
     ]
    }
   ],
   "source": [
    "liver_eqtl_results"
   ]
  },
  {
   "cell_type": "code",
   "execution_count": 12,
   "metadata": {},
   "outputs": [
    {
     "data": {
      "text/plain": [
       "pandas.core.frame.DataFrame"
      ]
     },
     "execution_count": 12,
     "metadata": {},
     "output_type": "execute_result"
    }
   ],
   "source": [
    "type(res)"
   ]
  },
  {
   "cell_type": "code",
   "execution_count": 23,
   "metadata": {},
   "outputs": [],
   "source": [
    "res = pd.read_pickle('/Users/d_private/_git/system_genetics/bin/liver_eqtl.pkl')"
   ]
  },
  {
   "cell_type": "code",
   "execution_count": 24,
   "metadata": {},
   "outputs": [
    {
     "ename": "RecursionError",
     "evalue": "maximum recursion depth exceeded while calling a Python object",
     "output_type": "error",
     "traceback": [
      "\u001B[0;31m---------------------------------------------------------------------------\u001B[0m",
      "\u001B[0;31mRecursionError\u001B[0m                            Traceback (most recent call last)",
      "\u001B[0;32m<ipython-input-24-dc34d3e691a5>\u001B[0m in \u001B[0;36m<module>\u001B[0;34m\u001B[0m\n\u001B[0;32m----> 1\u001B[0;31m \u001B[0mres\u001B[0m\u001B[0;34m.\u001B[0m\u001B[0mhead\u001B[0m\u001B[0;34m(\u001B[0m\u001B[0;36m5\u001B[0m\u001B[0;34m)\u001B[0m\u001B[0;34m\u001B[0m\u001B[0;34m\u001B[0m\u001B[0m\n\u001B[0m",
      "\u001B[0;32m~/anaconda3/envs/PyProgAll/lib/python3.8/site-packages/pandas/core/generic.py\u001B[0m in \u001B[0;36mhead\u001B[0;34m(self, n)\u001B[0m\n\u001B[1;32m   4787\u001B[0m         \"\"\"\n\u001B[1;32m   4788\u001B[0m \u001B[0;34m\u001B[0m\u001B[0m\n\u001B[0;32m-> 4789\u001B[0;31m         \u001B[0;32mreturn\u001B[0m \u001B[0mself\u001B[0m\u001B[0;34m.\u001B[0m\u001B[0miloc\u001B[0m\u001B[0;34m[\u001B[0m\u001B[0;34m:\u001B[0m\u001B[0mn\u001B[0m\u001B[0;34m]\u001B[0m\u001B[0;34m\u001B[0m\u001B[0;34m\u001B[0m\u001B[0m\n\u001B[0m\u001B[1;32m   4790\u001B[0m \u001B[0;34m\u001B[0m\u001B[0m\n\u001B[1;32m   4791\u001B[0m     \u001B[0;32mdef\u001B[0m \u001B[0mtail\u001B[0m\u001B[0;34m(\u001B[0m\u001B[0mself\u001B[0m\u001B[0;34m:\u001B[0m \u001B[0mFrameOrSeries\u001B[0m\u001B[0;34m,\u001B[0m \u001B[0mn\u001B[0m\u001B[0;34m:\u001B[0m \u001B[0mint\u001B[0m \u001B[0;34m=\u001B[0m \u001B[0;36m5\u001B[0m\u001B[0;34m)\u001B[0m \u001B[0;34m->\u001B[0m \u001B[0mFrameOrSeries\u001B[0m\u001B[0;34m:\u001B[0m\u001B[0;34m\u001B[0m\u001B[0;34m\u001B[0m\u001B[0m\n",
      "\u001B[0;32m~/anaconda3/envs/PyProgAll/lib/python3.8/site-packages/pandas/core/indexing.py\u001B[0m in \u001B[0;36m__getitem__\u001B[0;34m(self, key)\u001B[0m\n\u001B[1;32m   1766\u001B[0m \u001B[0;34m\u001B[0m\u001B[0m\n\u001B[1;32m   1767\u001B[0m             \u001B[0mmaybe_callable\u001B[0m \u001B[0;34m=\u001B[0m \u001B[0mcom\u001B[0m\u001B[0;34m.\u001B[0m\u001B[0mapply_if_callable\u001B[0m\u001B[0;34m(\u001B[0m\u001B[0mkey\u001B[0m\u001B[0;34m,\u001B[0m \u001B[0mself\u001B[0m\u001B[0;34m.\u001B[0m\u001B[0mobj\u001B[0m\u001B[0;34m)\u001B[0m\u001B[0;34m\u001B[0m\u001B[0;34m\u001B[0m\u001B[0m\n\u001B[0;32m-> 1768\u001B[0;31m             \u001B[0;32mreturn\u001B[0m \u001B[0mself\u001B[0m\u001B[0;34m.\u001B[0m\u001B[0m_getitem_axis\u001B[0m\u001B[0;34m(\u001B[0m\u001B[0mmaybe_callable\u001B[0m\u001B[0;34m,\u001B[0m \u001B[0maxis\u001B[0m\u001B[0;34m=\u001B[0m\u001B[0maxis\u001B[0m\u001B[0;34m)\u001B[0m\u001B[0;34m\u001B[0m\u001B[0;34m\u001B[0m\u001B[0m\n\u001B[0m\u001B[1;32m   1769\u001B[0m \u001B[0;34m\u001B[0m\u001B[0m\n\u001B[1;32m   1770\u001B[0m     \u001B[0;32mdef\u001B[0m \u001B[0m_is_scalar_access\u001B[0m\u001B[0;34m(\u001B[0m\u001B[0mself\u001B[0m\u001B[0;34m,\u001B[0m \u001B[0mkey\u001B[0m\u001B[0;34m:\u001B[0m \u001B[0mTuple\u001B[0m\u001B[0;34m)\u001B[0m\u001B[0;34m:\u001B[0m\u001B[0;34m\u001B[0m\u001B[0;34m\u001B[0m\u001B[0m\n",
      "\u001B[0;32m~/anaconda3/envs/PyProgAll/lib/python3.8/site-packages/pandas/core/indexing.py\u001B[0m in \u001B[0;36m_getitem_axis\u001B[0;34m(self, key, axis)\u001B[0m\n\u001B[1;32m   2116\u001B[0m     \u001B[0;32mdef\u001B[0m \u001B[0m_getitem_axis\u001B[0m\u001B[0;34m(\u001B[0m\u001B[0mself\u001B[0m\u001B[0;34m,\u001B[0m \u001B[0mkey\u001B[0m\u001B[0;34m,\u001B[0m \u001B[0maxis\u001B[0m\u001B[0;34m:\u001B[0m \u001B[0mint\u001B[0m\u001B[0;34m)\u001B[0m\u001B[0;34m:\u001B[0m\u001B[0;34m\u001B[0m\u001B[0;34m\u001B[0m\u001B[0m\n\u001B[1;32m   2117\u001B[0m         \u001B[0;32mif\u001B[0m \u001B[0misinstance\u001B[0m\u001B[0;34m(\u001B[0m\u001B[0mkey\u001B[0m\u001B[0;34m,\u001B[0m \u001B[0mslice\u001B[0m\u001B[0;34m)\u001B[0m\u001B[0;34m:\u001B[0m\u001B[0;34m\u001B[0m\u001B[0;34m\u001B[0m\u001B[0m\n\u001B[0;32m-> 2118\u001B[0;31m             \u001B[0;32mreturn\u001B[0m \u001B[0mself\u001B[0m\u001B[0;34m.\u001B[0m\u001B[0m_get_slice_axis\u001B[0m\u001B[0;34m(\u001B[0m\u001B[0mkey\u001B[0m\u001B[0;34m,\u001B[0m \u001B[0maxis\u001B[0m\u001B[0;34m=\u001B[0m\u001B[0maxis\u001B[0m\u001B[0;34m)\u001B[0m\u001B[0;34m\u001B[0m\u001B[0;34m\u001B[0m\u001B[0m\n\u001B[0m\u001B[1;32m   2119\u001B[0m \u001B[0;34m\u001B[0m\u001B[0m\n\u001B[1;32m   2120\u001B[0m         \u001B[0;32mif\u001B[0m \u001B[0misinstance\u001B[0m\u001B[0;34m(\u001B[0m\u001B[0mkey\u001B[0m\u001B[0;34m,\u001B[0m \u001B[0mlist\u001B[0m\u001B[0;34m)\u001B[0m\u001B[0;34m:\u001B[0m\u001B[0;34m\u001B[0m\u001B[0;34m\u001B[0m\u001B[0m\n",
      "\u001B[0;32m~/anaconda3/envs/PyProgAll/lib/python3.8/site-packages/pandas/core/indexing.py\u001B[0m in \u001B[0;36m_get_slice_axis\u001B[0;34m(self, slice_obj, axis)\u001B[0m\n\u001B[1;32m   1747\u001B[0m             \u001B[0;32mreturn\u001B[0m \u001B[0mobj\u001B[0m\u001B[0;34m.\u001B[0m\u001B[0mcopy\u001B[0m\u001B[0;34m(\u001B[0m\u001B[0mdeep\u001B[0m\u001B[0;34m=\u001B[0m\u001B[0;32mFalse\u001B[0m\u001B[0;34m)\u001B[0m\u001B[0;34m\u001B[0m\u001B[0;34m\u001B[0m\u001B[0m\n\u001B[1;32m   1748\u001B[0m \u001B[0;34m\u001B[0m\u001B[0m\n\u001B[0;32m-> 1749\u001B[0;31m         \u001B[0mindexer\u001B[0m \u001B[0;34m=\u001B[0m \u001B[0mself\u001B[0m\u001B[0;34m.\u001B[0m\u001B[0m_convert_slice_indexer\u001B[0m\u001B[0;34m(\u001B[0m\u001B[0mslice_obj\u001B[0m\u001B[0;34m,\u001B[0m \u001B[0maxis\u001B[0m\u001B[0;34m)\u001B[0m\u001B[0;34m\u001B[0m\u001B[0;34m\u001B[0m\u001B[0m\n\u001B[0m\u001B[1;32m   1750\u001B[0m         \u001B[0;32mreturn\u001B[0m \u001B[0mself\u001B[0m\u001B[0;34m.\u001B[0m\u001B[0m_slice\u001B[0m\u001B[0;34m(\u001B[0m\u001B[0mindexer\u001B[0m\u001B[0;34m,\u001B[0m \u001B[0maxis\u001B[0m\u001B[0;34m=\u001B[0m\u001B[0maxis\u001B[0m\u001B[0;34m,\u001B[0m \u001B[0mkind\u001B[0m\u001B[0;34m=\u001B[0m\u001B[0;34m\"iloc\"\u001B[0m\u001B[0;34m)\u001B[0m\u001B[0;34m\u001B[0m\u001B[0;34m\u001B[0m\u001B[0m\n\u001B[1;32m   1751\u001B[0m \u001B[0;34m\u001B[0m\u001B[0m\n",
      "\u001B[0;32m~/anaconda3/envs/PyProgAll/lib/python3.8/site-packages/pandas/core/indexing.py\u001B[0m in \u001B[0;36m_convert_slice_indexer\u001B[0;34m(self, key, axis)\u001B[0m\n\u001B[1;32m    743\u001B[0m     \u001B[0;32mdef\u001B[0m \u001B[0m_convert_slice_indexer\u001B[0m\u001B[0;34m(\u001B[0m\u001B[0mself\u001B[0m\u001B[0;34m,\u001B[0m \u001B[0mkey\u001B[0m\u001B[0;34m:\u001B[0m \u001B[0mslice\u001B[0m\u001B[0;34m,\u001B[0m \u001B[0maxis\u001B[0m\u001B[0;34m:\u001B[0m \u001B[0mint\u001B[0m\u001B[0;34m)\u001B[0m\u001B[0;34m:\u001B[0m\u001B[0;34m\u001B[0m\u001B[0;34m\u001B[0m\u001B[0m\n\u001B[1;32m    744\u001B[0m         \u001B[0;31m# if we are accessing via lowered dim, use the last dim\u001B[0m\u001B[0;34m\u001B[0m\u001B[0;34m\u001B[0m\u001B[0;34m\u001B[0m\u001B[0m\n\u001B[0;32m--> 745\u001B[0;31m         \u001B[0max\u001B[0m \u001B[0;34m=\u001B[0m \u001B[0mself\u001B[0m\u001B[0;34m.\u001B[0m\u001B[0mobj\u001B[0m\u001B[0;34m.\u001B[0m\u001B[0m_get_axis\u001B[0m\u001B[0;34m(\u001B[0m\u001B[0mmin\u001B[0m\u001B[0;34m(\u001B[0m\u001B[0maxis\u001B[0m\u001B[0;34m,\u001B[0m \u001B[0mself\u001B[0m\u001B[0;34m.\u001B[0m\u001B[0mndim\u001B[0m \u001B[0;34m-\u001B[0m \u001B[0;36m1\u001B[0m\u001B[0;34m)\u001B[0m\u001B[0;34m)\u001B[0m\u001B[0;34m\u001B[0m\u001B[0;34m\u001B[0m\u001B[0m\n\u001B[0m\u001B[1;32m    746\u001B[0m         \u001B[0;32mreturn\u001B[0m \u001B[0max\u001B[0m\u001B[0;34m.\u001B[0m\u001B[0m_convert_slice_indexer\u001B[0m\u001B[0;34m(\u001B[0m\u001B[0mkey\u001B[0m\u001B[0;34m,\u001B[0m \u001B[0mkind\u001B[0m\u001B[0;34m=\u001B[0m\u001B[0mself\u001B[0m\u001B[0;34m.\u001B[0m\u001B[0mname\u001B[0m\u001B[0;34m)\u001B[0m\u001B[0;34m\u001B[0m\u001B[0;34m\u001B[0m\u001B[0m\n\u001B[1;32m    747\u001B[0m \u001B[0;34m\u001B[0m\u001B[0m\n",
      "\u001B[0;32mpandas/_libs/indexing.pyx\u001B[0m in \u001B[0;36mpandas._libs.indexing._NDFrameIndexerBase.ndim.__get__\u001B[0;34m()\u001B[0m\n",
      "\u001B[0;32m~/anaconda3/envs/PyProgAll/lib/python3.8/site-packages/pandas/core/generic.py\u001B[0m in \u001B[0;36m__getattr__\u001B[0;34m(self, name)\u001B[0m\n\u001B[1;32m   5270\u001B[0m             \u001B[0;32mreturn\u001B[0m \u001B[0mobject\u001B[0m\u001B[0;34m.\u001B[0m\u001B[0m__getattribute__\u001B[0m\u001B[0;34m(\u001B[0m\u001B[0mself\u001B[0m\u001B[0;34m,\u001B[0m \u001B[0mname\u001B[0m\u001B[0;34m)\u001B[0m\u001B[0;34m\u001B[0m\u001B[0;34m\u001B[0m\u001B[0m\n\u001B[1;32m   5271\u001B[0m         \u001B[0;32melse\u001B[0m\u001B[0;34m:\u001B[0m\u001B[0;34m\u001B[0m\u001B[0;34m\u001B[0m\u001B[0m\n\u001B[0;32m-> 5272\u001B[0;31m             \u001B[0;32mif\u001B[0m \u001B[0mself\u001B[0m\u001B[0;34m.\u001B[0m\u001B[0m_info_axis\u001B[0m\u001B[0;34m.\u001B[0m\u001B[0m_can_hold_identifiers_and_holds_name\u001B[0m\u001B[0;34m(\u001B[0m\u001B[0mname\u001B[0m\u001B[0;34m)\u001B[0m\u001B[0;34m:\u001B[0m\u001B[0;34m\u001B[0m\u001B[0;34m\u001B[0m\u001B[0m\n\u001B[0m\u001B[1;32m   5273\u001B[0m                 \u001B[0;32mreturn\u001B[0m \u001B[0mself\u001B[0m\u001B[0;34m[\u001B[0m\u001B[0mname\u001B[0m\u001B[0;34m]\u001B[0m\u001B[0;34m\u001B[0m\u001B[0;34m\u001B[0m\u001B[0m\n\u001B[1;32m   5274\u001B[0m             \u001B[0;32mreturn\u001B[0m \u001B[0mobject\u001B[0m\u001B[0;34m.\u001B[0m\u001B[0m__getattribute__\u001B[0m\u001B[0;34m(\u001B[0m\u001B[0mself\u001B[0m\u001B[0;34m,\u001B[0m \u001B[0mname\u001B[0m\u001B[0;34m)\u001B[0m\u001B[0;34m\u001B[0m\u001B[0;34m\u001B[0m\u001B[0m\n",
      "\u001B[0;32m~/anaconda3/envs/PyProgAll/lib/python3.8/site-packages/pandas/core/generic.py\u001B[0m in \u001B[0;36m__getattr__\u001B[0;34m(self, name)\u001B[0m\n\u001B[1;32m   5270\u001B[0m             \u001B[0;32mreturn\u001B[0m \u001B[0mobject\u001B[0m\u001B[0;34m.\u001B[0m\u001B[0m__getattribute__\u001B[0m\u001B[0;34m(\u001B[0m\u001B[0mself\u001B[0m\u001B[0;34m,\u001B[0m \u001B[0mname\u001B[0m\u001B[0;34m)\u001B[0m\u001B[0;34m\u001B[0m\u001B[0;34m\u001B[0m\u001B[0m\n\u001B[1;32m   5271\u001B[0m         \u001B[0;32melse\u001B[0m\u001B[0;34m:\u001B[0m\u001B[0;34m\u001B[0m\u001B[0;34m\u001B[0m\u001B[0m\n\u001B[0;32m-> 5272\u001B[0;31m             \u001B[0;32mif\u001B[0m \u001B[0mself\u001B[0m\u001B[0;34m.\u001B[0m\u001B[0m_info_axis\u001B[0m\u001B[0;34m.\u001B[0m\u001B[0m_can_hold_identifiers_and_holds_name\u001B[0m\u001B[0;34m(\u001B[0m\u001B[0mname\u001B[0m\u001B[0;34m)\u001B[0m\u001B[0;34m:\u001B[0m\u001B[0;34m\u001B[0m\u001B[0;34m\u001B[0m\u001B[0m\n\u001B[0m\u001B[1;32m   5273\u001B[0m                 \u001B[0;32mreturn\u001B[0m \u001B[0mself\u001B[0m\u001B[0;34m[\u001B[0m\u001B[0mname\u001B[0m\u001B[0;34m]\u001B[0m\u001B[0;34m\u001B[0m\u001B[0;34m\u001B[0m\u001B[0m\n\u001B[1;32m   5274\u001B[0m             \u001B[0;32mreturn\u001B[0m \u001B[0mobject\u001B[0m\u001B[0;34m.\u001B[0m\u001B[0m__getattribute__\u001B[0m\u001B[0;34m(\u001B[0m\u001B[0mself\u001B[0m\u001B[0;34m,\u001B[0m \u001B[0mname\u001B[0m\u001B[0;34m)\u001B[0m\u001B[0;34m\u001B[0m\u001B[0;34m\u001B[0m\u001B[0m\n",
      "... last 2 frames repeated, from the frame below ...\n",
      "\u001B[0;32m~/anaconda3/envs/PyProgAll/lib/python3.8/site-packages/pandas/core/generic.py\u001B[0m in \u001B[0;36m__getattr__\u001B[0;34m(self, name)\u001B[0m\n\u001B[1;32m   5270\u001B[0m             \u001B[0;32mreturn\u001B[0m \u001B[0mobject\u001B[0m\u001B[0;34m.\u001B[0m\u001B[0m__getattribute__\u001B[0m\u001B[0;34m(\u001B[0m\u001B[0mself\u001B[0m\u001B[0;34m,\u001B[0m \u001B[0mname\u001B[0m\u001B[0;34m)\u001B[0m\u001B[0;34m\u001B[0m\u001B[0;34m\u001B[0m\u001B[0m\n\u001B[1;32m   5271\u001B[0m         \u001B[0;32melse\u001B[0m\u001B[0;34m:\u001B[0m\u001B[0;34m\u001B[0m\u001B[0;34m\u001B[0m\u001B[0m\n\u001B[0;32m-> 5272\u001B[0;31m             \u001B[0;32mif\u001B[0m \u001B[0mself\u001B[0m\u001B[0;34m.\u001B[0m\u001B[0m_info_axis\u001B[0m\u001B[0;34m.\u001B[0m\u001B[0m_can_hold_identifiers_and_holds_name\u001B[0m\u001B[0;34m(\u001B[0m\u001B[0mname\u001B[0m\u001B[0;34m)\u001B[0m\u001B[0;34m:\u001B[0m\u001B[0;34m\u001B[0m\u001B[0;34m\u001B[0m\u001B[0m\n\u001B[0m\u001B[1;32m   5273\u001B[0m                 \u001B[0;32mreturn\u001B[0m \u001B[0mself\u001B[0m\u001B[0;34m[\u001B[0m\u001B[0mname\u001B[0m\u001B[0;34m]\u001B[0m\u001B[0;34m\u001B[0m\u001B[0;34m\u001B[0m\u001B[0m\n\u001B[1;32m   5274\u001B[0m             \u001B[0;32mreturn\u001B[0m \u001B[0mobject\u001B[0m\u001B[0;34m.\u001B[0m\u001B[0m__getattribute__\u001B[0m\u001B[0;34m(\u001B[0m\u001B[0mself\u001B[0m\u001B[0;34m,\u001B[0m \u001B[0mname\u001B[0m\u001B[0;34m)\u001B[0m\u001B[0;34m\u001B[0m\u001B[0;34m\u001B[0m\u001B[0m\n",
      "\u001B[0;31mRecursionError\u001B[0m: maximum recursion depth exceeded while calling a Python object"
     ]
    }
   ],
   "source": [
    "res.head(5)"
   ]
  },
  {
   "cell_type": "code",
   "execution_count": 27,
   "metadata": {},
   "outputs": [
    {
     "data": {
      "text/plain": [
       "3000"
      ]
     },
     "execution_count": 27,
     "metadata": {},
     "output_type": "execute_result"
    }
   ],
   "source": [
    "import sys\n",
    "sys.getrecursionlimit()"
   ]
  },
  {
   "cell_type": "code",
   "execution_count": null,
   "metadata": {},
   "outputs": [],
   "source": []
  }
 ],
 "metadata": {
  "kernelspec": {
   "display_name": "Python 3",
   "language": "python",
   "name": "python3"
  },
  "language_info": {
   "codemirror_mode": {
    "name": "ipython",
    "version": 3
   },
   "file_extension": ".py",
   "mimetype": "text/x-python",
   "name": "python",
   "nbconvert_exporter": "python",
   "pygments_lexer": "ipython3",
   "version": "3.8.3"
  }
 },
 "nbformat": 4,
 "nbformat_minor": 1
}